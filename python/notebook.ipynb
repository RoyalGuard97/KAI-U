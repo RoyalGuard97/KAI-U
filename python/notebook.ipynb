{
 "cells": [
  {
   "cell_type": "code",
   "execution_count": 1,
   "metadata": {},
   "outputs": [],
   "source": [
    "from PIL import Image\n",
    "\n",
    "def estandarizar_imagenes(x=1120, y=840,ruta_imagen=\"\"):\n",
    "    target_size = (x, y)  # Cambia el tamaño a tus necesidades\n",
    "    img = Image.open(ruta_imagen)\n",
    "    img_resized = img.resize(target_size, Image.ANTIALIAS)\n",
    "    \n",
    "    # Cambiar la extensión del archivo a .webp\n",
    "    ruta_webp = ruta_imagen.replace('.jpg', '.webp').replace('.png', '.webp')\n",
    "    \n",
    "    # Guardar la imagen redimensionada en formato WebP\n",
    "    img_resized.save(ruta_webp, 'WebP')\n",
    "\n",
    "# Llamada a la función con la ruta de la imagen\n",
    "ruta_imagen = '../assets/001_bemular_1.jpg'  # Cambia la ruta a tu imagen"
   ]
  },
  {
   "cell_type": "code",
   "execution_count": 15,
   "metadata": {},
   "outputs": [
    {
     "name": "stderr",
     "output_type": "stream",
     "text": [
      "C:\\Users\\User\\AppData\\Local\\Temp\\ipykernel_17828\\2307847838.py:6: DeprecationWarning: ANTIALIAS is deprecated and will be removed in Pillow 10 (2023-07-01). Use Resampling.LANCZOS instead.\n",
      "  img_resized = img.resize(target_size, Image.ANTIALIAS)\n"
     ]
    }
   ],
   "source": [
    "estandarizar_imagenes(ruta_imagen='../assets/001_bemular_1.jpg')\n",
    "estandarizar_imagenes(ruta_imagen='../assets/001_bemular_2.jpg')\n",
    "estandarizar_imagenes(ruta_imagen='../assets/bemular.png')\n",
    "estandarizar_imagenes(800,1425,'../assets/ultraman_tiga.jpg')"
   ]
  },
  {
   "cell_type": "code",
   "execution_count": 3,
   "metadata": {},
   "outputs": [
    {
     "name": "stderr",
     "output_type": "stream",
     "text": [
      "C:\\Users\\User\\AppData\\Local\\Temp\\ipykernel_6764\\2307847838.py:6: DeprecationWarning: ANTIALIAS is deprecated and will be removed in Pillow 10 (2023-07-01). Use Resampling.LANCZOS instead.\n",
      "  img_resized = img.resize(target_size, Image.ANTIALIAS)\n"
     ]
    }
   ],
   "source": [
    "estandarizar_imagenes(ruta_imagen='../assets/alien_baltan.jpg')\n",
    "estandarizar_imagenes(ruta_imagen='../assets/002_alien_baltan_1.jpg')\n",
    "estandarizar_imagenes(ruta_imagen='../assets/002_alien_baltan_2.jpg')\n",
    "estandarizar_imagenes(ruta_imagen='../assets/002_alien_baltan_3.jpg')"
   ]
  }
 ],
 "metadata": {
  "kernelspec": {
   "display_name": "Python 3",
   "language": "python",
   "name": "python3"
  },
  "language_info": {
   "codemirror_mode": {
    "name": "ipython",
    "version": 3
   },
   "file_extension": ".py",
   "mimetype": "text/x-python",
   "name": "python",
   "nbconvert_exporter": "python",
   "pygments_lexer": "ipython3",
   "version": "3.10.2"
  },
  "orig_nbformat": 4
 },
 "nbformat": 4,
 "nbformat_minor": 2
}
