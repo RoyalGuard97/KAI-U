{
 "cells": [
  {
   "cell_type": "code",
   "execution_count": 1,
   "metadata": {},
   "outputs": [],
   "source": [
    "from PIL import Image\n",
    "\n",
    "def estandarizar_imagenes(x=1120, y=840,ruta_imagen=\"\"):\n",
    "    target_size = (x, y)  # Cambia el tamaño a tus necesidades\n",
    "    img = Image.open(ruta_imagen)\n",
    "    img_resized = img.resize(target_size, Image.ANTIALIAS)\n",
    "    \n",
    "    # Cambiar la extensión del archivo a .webp\n",
    "    ruta_webp = ruta_imagen.replace('.jpg', '.webp').replace('.png', '.webp')\n",
    "    \n",
    "    # Guardar la imagen redimensionada en formato WebP\n",
    "    img_resized.save(ruta_webp, 'WebP')\n",
    "\n",
    "# Llamada a la función con la ruta de la imagen\n",
    "ruta_imagen = '../assets/001_bemular_1.jpg'  # Cambia la ruta a tu imagen"
   ]
  },
  {
   "cell_type": "code",
   "execution_count": 7,
   "metadata": {},
   "outputs": [
    {
     "name": "stderr",
     "output_type": "stream",
     "text": [
      "C:\\Users\\User\\AppData\\Local\\Temp\\ipykernel_20948\\2307847838.py:6: DeprecationWarning: ANTIALIAS is deprecated and will be removed in Pillow 10 (2023-07-01). Use Resampling.LANCZOS instead.\n",
      "  img_resized = img.resize(target_size, Image.ANTIALIAS)\n"
     ]
    }
   ],
   "source": [
    "# Script para Modificar Imágenes Principales\n",
    "key = input(\"Ingresa el Número Clave del Kaiju: \")\n",
    "kaiju = input(\"Ingresa el Nombre del Kaiju: \")\n",
    "for i in range(10):\n",
    "    if (i!=2):\n",
    "        try:\n",
    "            estandarizar_imagenes(ruta_imagen=f'../assets/0{key}_{kaiju}_{i}.jpg')\n",
    "        except:\n",
    "            try:\n",
    "                estandarizar_imagenes(ruta_imagen=f'../assets/0{key}_{kaiju}_{i}.png')\n",
    "            except:\n",
    "                continue\n",
    "    else:\n",
    "        estandarizar_imagenes(x=1120,y=650,ruta_imagen=f'../assets/0{key}_{kaiju}_2.jpg')"
   ]
  },
  {
   "cell_type": "code",
   "execution_count": 4,
   "metadata": {},
   "outputs": [
    {
     "name": "stderr",
     "output_type": "stream",
     "text": [
      "C:\\Users\\User\\AppData\\Local\\Temp\\ipykernel_23072\\2307847838.py:6: DeprecationWarning: ANTIALIAS is deprecated and will be removed in Pillow 10 (2023-07-01). Use Resampling.LANCZOS instead.\n",
      "  img_resized = img.resize(target_size, Image.ANTIALIAS)\n"
     ]
    }
   ],
   "source": [
    "#Imagenes Ultra\n",
    "estandarizar_imagenes(x=800,y=1425,ruta_imagen=f'../assets/ultraman_jack.jpg')"
   ]
  },
  {
   "cell_type": "code",
   "execution_count": 14,
   "metadata": {},
   "outputs": [
    {
     "name": "stderr",
     "output_type": "stream",
     "text": [
      "C:\\Users\\User\\AppData\\Local\\Temp\\ipykernel_2928\\2307847838.py:6: DeprecationWarning: ANTIALIAS is deprecated and will be removed in Pillow 10 (2023-07-01). Use Resampling.LANCZOS instead.\n",
      "  img_resized = img.resize(target_size, Image.ANTIALIAS)\n"
     ]
    }
   ],
   "source": [
    "estandarizar_imagenes(ruta_imagen=f'../assets/008_redking_0.webp')"
   ]
  },
  {
   "cell_type": "code",
   "execution_count": 4,
   "metadata": {},
   "outputs": [
    {
     "name": "stderr",
     "output_type": "stream",
     "text": [
      "C:\\Users\\User\\AppData\\Local\\Temp\\ipykernel_18448\\2307847838.py:6: DeprecationWarning: ANTIALIAS is deprecated and will be removed in Pillow 10 (2023-07-01). Use Resampling.LANCZOS instead.\n",
      "  img_resized = img.resize(target_size, Image.ANTIALIAS)\n"
     ]
    }
   ],
   "source": [
    "#Script para Modificar Imágenes Drawer.\n",
    "estandarizar_imagenes(x=1120,y=650,ruta_imagen='../assets/024_jamila_2.jpg')"
   ]
  },
  {
   "cell_type": "code",
   "execution_count": 16,
   "metadata": {},
   "outputs": [
    {
     "name": "stderr",
     "output_type": "stream",
     "text": [
      "C:\\Users\\User\\AppData\\Local\\Temp\\ipykernel_8288\\2307847838.py:6: DeprecationWarning: ANTIALIAS is deprecated and will be removed in Pillow 10 (2023-07-01). Use Resampling.LANCZOS instead.\n",
      "  img_resized = img.resize(target_size, Image.ANTIALIAS)\n"
     ]
    }
   ],
   "source": [
    "#Script para Imágenes Habilidades Debilidades & Curiosidades.\n",
    "estandarizar_imagenes(x=1250, ruta_imagen=f'../assets/jirahs_habs.jpg')"
   ]
  },
  {
   "cell_type": "code",
   "execution_count": 11,
   "metadata": {},
   "outputs": [
    {
     "name": "stderr",
     "output_type": "stream",
     "text": [
      "C:\\Users\\User\\AppData\\Local\\Temp\\ipykernel_20660\\2307847838.py:6: DeprecationWarning: ANTIALIAS is deprecated and will be removed in Pillow 10 (2023-07-01). Use Resampling.LANCZOS instead.\n",
      "  img_resized = img.resize(target_size, Image.ANTIALIAS)\n"
     ]
    }
   ],
   "source": [
    "estandarizar_imagenes(x=900,y=562, ruta_imagen=f'../assets/Land_of_Light.jpg')"
   ]
  }
 ],
 "metadata": {
  "kernelspec": {
   "display_name": "Python 3",
   "language": "python",
   "name": "python3"
  },
  "language_info": {
   "codemirror_mode": {
    "name": "ipython",
    "version": 3
   },
   "file_extension": ".py",
   "mimetype": "text/x-python",
   "name": "python",
   "nbconvert_exporter": "python",
   "pygments_lexer": "ipython3",
   "version": "3.10.2"
  },
  "orig_nbformat": 4
 },
 "nbformat": 4,
 "nbformat_minor": 2
}
